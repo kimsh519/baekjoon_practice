{
  "nbformat": 4,
  "nbformat_minor": 0,
  "metadata": {
    "colab": {
      "provenance": [],
      "authorship_tag": "ABX9TyP0ZvyJSV0B2dYD/ILSczL5",
      "include_colab_link": true
    },
    "kernelspec": {
      "name": "python3",
      "display_name": "Python 3"
    },
    "language_info": {
      "name": "python"
    }
  },
  "cells": [
    {
      "cell_type": "markdown",
      "metadata": {
        "id": "view-in-github",
        "colab_type": "text"
      },
      "source": [
        "<a href=\"https://colab.research.google.com/github/kimsh519/baekjoon_practice/blob/main/230507_2738.ipynb\" target=\"_parent\"><img src=\"https://colab.research.google.com/assets/colab-badge.svg\" alt=\"Open In Colab\"/></a>"
      ]
    },
    {
      "cell_type": "code",
      "execution_count": null,
      "metadata": {
        "colab": {
          "base_uri": "https://localhost:8080/"
        },
        "id": "-dD2Xn0JKy-D",
        "outputId": "ba4cf00d-d47f-4d02-ad91-13a389e6cb7d"
      },
      "outputs": [
        {
          "output_type": "stream",
          "name": "stdout",
          "text": [
            "3 3\n",
            "1 1 1\n",
            "2 2 2\n",
            "0 1 0\n",
            "3 3 3\n",
            "4 4 4\n",
            "5 5 100\n",
            "4 4 4 \n",
            "6 6 6 \n",
            "5 6 100 \n"
          ]
        }
      ],
      "source": [
        "A_list = []\n",
        "B_list = []\n",
        "N,M = map(int,input().split())\n",
        "for i in range(N) :\n",
        "    A = list(map(int , input().split()))\n",
        "    A_list.append(A)\n",
        "for i in range(N) :  \n",
        "    B = list(map(int , input().split()))\n",
        "    B_list.append(B)\n",
        "\n",
        "for i in range(N) :\n",
        "  for j in range(M) :\n",
        "    print(A_list[i][j] + B_list[i][j],end = ' ')\n",
        "  print()\n",
        "    "
      ]
    }
  ]
}