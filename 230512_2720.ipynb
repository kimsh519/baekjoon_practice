{
  "nbformat": 4,
  "nbformat_minor": 0,
  "metadata": {
    "colab": {
      "provenance": [],
      "authorship_tag": "ABX9TyOVHX/+/Lnghn/sLu8ehVDa",
      "include_colab_link": true
    },
    "kernelspec": {
      "name": "python3",
      "display_name": "Python 3"
    },
    "language_info": {
      "name": "python"
    }
  },
  "cells": [
    {
      "cell_type": "markdown",
      "metadata": {
        "id": "view-in-github",
        "colab_type": "text"
      },
      "source": [
        "<a href=\"https://colab.research.google.com/github/kimsh519/baekjoon_practice/blob/main/230512_2720.ipynb\" target=\"_parent\"><img src=\"https://colab.research.google.com/assets/colab-badge.svg\" alt=\"Open In Colab\"/></a>"
      ]
    },
    {
      "cell_type": "code",
      "execution_count": 2,
      "metadata": {
        "colab": {
          "base_uri": "https://localhost:8080/"
        },
        "id": "Mp5drVrF4cvL",
        "outputId": "4ecc2b82-521b-4a22-ce78-67851b922554"
      },
      "outputs": [
        {
          "output_type": "stream",
          "name": "stdout",
          "text": [
            "3\n",
            "124\n",
            "4 2 0 4\n",
            "25\n",
            "1 0 0 0\n",
            "194\n",
            "7 1 1 4\n"
          ]
        }
      ],
      "source": [
        "T = int(input())\n",
        "for i in range(T) :\n",
        "  C = int(input())\n",
        "  Q = int(C/25)\n",
        "  q = C - 25*Q\n",
        "  D = int(q/10)\n",
        "  d = q - 10*D\n",
        "  N = int(d/5)\n",
        "  P = d - 5*N\n",
        "  print(Q,D,N,P)"
      ]
    }
  ]
}