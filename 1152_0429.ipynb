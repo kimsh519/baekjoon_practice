{
  "nbformat": 4,
  "nbformat_minor": 0,
  "metadata": {
    "colab": {
      "provenance": [],
      "authorship_tag": "ABX9TyO+B0fIZdQfohYMl4IyYvga",
      "include_colab_link": true
    },
    "kernelspec": {
      "name": "python3",
      "display_name": "Python 3"
    },
    "language_info": {
      "name": "python"
    }
  },
  "cells": [
    {
      "cell_type": "markdown",
      "metadata": {
        "id": "view-in-github",
        "colab_type": "text"
      },
      "source": [
        "<a href=\"https://colab.research.google.com/github/kimsh519/baekjoon_practice/blob/main/1152_0429.ipynb\" target=\"_parent\"><img src=\"https://colab.research.google.com/assets/colab-badge.svg\" alt=\"Open In Colab\"/></a>"
      ]
    },
    {
      "cell_type": "code",
      "execution_count": 49,
      "metadata": {
        "colab": {
          "base_uri": "https://localhost:8080/"
        },
        "id": "DH0gtPcmGXYm",
        "outputId": "250e2542-1cb4-477b-ebac-c38e9079db16"
      },
      "outputs": [
        {
          "output_type": "stream",
          "name": "stdout",
          "text": [
            "The last character is a blank \n",
            "6\n"
          ]
        }
      ],
      "source": [
        "x_list=[]\n",
        "count = 0\n",
        "S = input()\n",
        "s = len(S)\n",
        "if S[0] != ' ' :\n",
        "  for i in range(s) :\n",
        "      k = S[i]\n",
        "      if k == ' ' :\n",
        "        count += 1\n",
        "\n",
        "else :\n",
        "  for i in range(1,s) :\n",
        "    k = S[i]\n",
        "    if k == ' ' :\n",
        "      count += 1\n",
        "if S[s-1] != ' ' :\n",
        "  print(count+1)\n",
        "else :\n",
        "  print(count)\n",
        "\n",
        "  \n",
        "\n",
        "  \n",
        "  "
      ]
    },
    {
      "cell_type": "code",
      "source": [],
      "metadata": {
        "id": "LofzFlJuG4vY"
      },
      "execution_count": null,
      "outputs": []
    }
  ]
}