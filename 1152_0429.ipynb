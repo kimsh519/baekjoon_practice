{
  "nbformat": 4,
  "nbformat_minor": 0,
  "metadata": {
    "colab": {
      "provenance": [],
      "authorship_tag": "ABX9TyPdWVSGE3tf14r8JhwfD+CM",
      "include_colab_link": true
    },
    "kernelspec": {
      "name": "python3",
      "display_name": "Python 3"
    },
    "language_info": {
      "name": "python"
    }
  },
  "cells": [
    {
      "cell_type": "markdown",
      "metadata": {
        "id": "view-in-github",
        "colab_type": "text"
      },
      "source": [
        "<a href=\"https://colab.research.google.com/github/kimsh519/baekjoon_practice/blob/main/1152_0429.ipynb\" target=\"_parent\"><img src=\"https://colab.research.google.com/assets/colab-badge.svg\" alt=\"Open In Colab\"/></a>"
      ]
    },
    {
      "cell_type": "code",
      "execution_count": 66,
      "metadata": {
        "colab": {
          "base_uri": "https://localhost:8080/"
        },
        "id": "DH0gtPcmGXYm",
        "outputId": "9cb85795-cdce-4036-99d5-83b369e25b23"
      },
      "outputs": [
        {
          "output_type": "stream",
          "name": "stdout",
          "text": [
            "123 456\n",
            "654\n"
          ]
        }
      ],
      "source": [
        "\n",
        "sum1 = ''\n",
        "sum2 = ''\n",
        "a,b = input().split()\n",
        "for i in a :\n",
        "  sum1 = i + sum1 \n",
        "for j in b :\n",
        "  sum2 = j + sum2\n",
        "\n",
        "if sum1>sum2 :\n",
        "  print(sum1)\n",
        "else :\n",
        "  print(sum2)\n",
        "\n",
        "\n",
        "  \n",
        "  \n",
        "\n",
        "  \n",
        "  "
      ]
    },
    {
      "cell_type": "code",
      "source": [],
      "metadata": {
        "id": "LofzFlJuG4vY"
      },
      "execution_count": null,
      "outputs": []
    }
  ]
}