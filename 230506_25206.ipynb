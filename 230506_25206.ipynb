{
  "nbformat": 4,
  "nbformat_minor": 0,
  "metadata": {
    "colab": {
      "provenance": [],
      "authorship_tag": "ABX9TyP3EIkCaKihRBi8gupwzt+f",
      "include_colab_link": true
    },
    "kernelspec": {
      "name": "python3",
      "display_name": "Python 3"
    },
    "language_info": {
      "name": "python"
    }
  },
  "cells": [
    {
      "cell_type": "markdown",
      "metadata": {
        "id": "view-in-github",
        "colab_type": "text"
      },
      "source": [
        "<a href=\"https://colab.research.google.com/github/kimsh519/baekjoon_practice/blob/main/230506_25206.ipynb\" target=\"_parent\"><img src=\"https://colab.research.google.com/assets/colab-badge.svg\" alt=\"Open In Colab\"/></a>"
      ]
    },
    {
      "cell_type": "code",
      "execution_count": 42,
      "metadata": {
        "colab": {
          "base_uri": "https://localhost:8080/"
        },
        "id": "-dD2Xn0JKy-D",
        "outputId": "4f282b84-3b6f-4acc-c690-ebf394ca3b84"
      },
      "outputs": [
        {
          "output_type": "stream",
          "name": "stdout",
          "text": [
            "ObjectOrientedProgramming1 3.0 A+\n",
            "IntroductiontoComputerEngineering 3.0 A+\n",
            "ObjectOrientedProgramming2 3.0 A0\n",
            "4.333333\n"
          ]
        }
      ],
      "source": [
        "total = 0\n",
        "y_total = 0\n",
        "grade = ['A+',4.5,'A0',4.0,'B+',3.5,'B0',3.0,'C+',2.5,'C0',2.0,'D+',1.5,'D0',1.0,'F',0.0]\n",
        "for i in range(20) :\n",
        "  x,y,z = input().split()\n",
        "  for i in range(18) :\n",
        "    if z != 'P' :\n",
        "      if z == grade[i] :\n",
        "        score = grade[i+1]\n",
        "        total = total + float(y)*float(score)\n",
        "        y_total = y_total + float(y)\n",
        "avg = total/y_total\n",
        "print('{:.6f}'.format(avg))\n",
        "    "
      ]
    },
    {
      "cell_type": "code",
      "source": [],
      "metadata": {
        "id": "__-cpLOhnEM3",
        "colab": {
          "base_uri": "https://localhost:8080/",
          "height": 137
        },
        "outputId": "b1d2222f-1ea2-4b82-de35-fc8ae2c5f7fa"
      },
      "execution_count": 30,
      "outputs": [
        {
          "output_type": "error",
          "ename": "SyntaxError",
          "evalue": "ignored",
          "traceback": [
            "\u001b[0;36m  File \u001b[0;32m\"<ipython-input-30-f0ded8e90309>\"\u001b[0;36m, line \u001b[0;32m1\u001b[0m\n\u001b[0;31m    ObjectOrientedProgramming2 3.0 A0ObjectOrientedProgramming2 3.0 A0dz=akddz=z=\u001b[0m\n\u001b[0m                               ^\u001b[0m\n\u001b[0;31mSyntaxError\u001b[0m\u001b[0;31m:\u001b[0m invalid syntax\n"
          ]
        }
      ]
    },
    {
      "cell_type": "code",
      "source": [],
      "metadata": {
        "id": "DtQpyhJL4gKm"
      },
      "execution_count": null,
      "outputs": []
    }
  ]
}