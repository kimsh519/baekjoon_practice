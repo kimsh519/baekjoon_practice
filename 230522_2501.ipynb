{
  "nbformat": 4,
  "nbformat_minor": 0,
  "metadata": {
    "colab": {
      "provenance": [],
      "authorship_tag": "ABX9TyMg3Gu0EXwjMIMFCeJNs3dN",
      "include_colab_link": true
    },
    "kernelspec": {
      "name": "python3",
      "display_name": "Python 3"
    },
    "language_info": {
      "name": "python"
    }
  },
  "cells": [
    {
      "cell_type": "markdown",
      "metadata": {
        "id": "view-in-github",
        "colab_type": "text"
      },
      "source": [
        "<a href=\"https://colab.research.google.com/github/kimsh519/baekjoon_practice/blob/main/230522_2501.ipynb\" target=\"_parent\"><img src=\"https://colab.research.google.com/assets/colab-badge.svg\" alt=\"Open In Colab\"/></a>"
      ]
    },
    {
      "cell_type": "code",
      "execution_count": 1,
      "metadata": {
        "colab": {
          "base_uri": "https://localhost:8080/"
        },
        "id": "-dD2Xn0JKy-D",
        "outputId": "ae9d5110-3b53-425a-bb13-3917f99a86ab"
      },
      "outputs": [
        {
          "output_type": "stream",
          "name": "stdout",
          "text": [
            "2735 1\n",
            "1\n"
          ]
        }
      ],
      "source": [
        "N ,K = map(int,input().split())\n",
        "x_list = []\n",
        "for i in range(1,N+1) :\n",
        "  if( N % i == 0) :\n",
        "    x = i\n",
        "    x_list.append(x)\n",
        "if len(x_list) < K :\n",
        "  print(0)\n",
        "else :\n",
        "  print(x_list[K-1])\n"
      ]
    },
    {
      "cell_type": "code",
      "source": [],
      "metadata": {
        "id": "2ULAJq73FVrN"
      },
      "execution_count": null,
      "outputs": []
    }
  ]
}