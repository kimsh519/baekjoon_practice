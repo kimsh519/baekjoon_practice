{
  "nbformat": 4,
  "nbformat_minor": 0,
  "metadata": {
    "colab": {
      "provenance": [],
      "authorship_tag": "ABX9TyP1vaTg7t6v60b+Rc8HWhE1",
      "include_colab_link": true
    },
    "kernelspec": {
      "name": "python3",
      "display_name": "Python 3"
    },
    "language_info": {
      "name": "python"
    }
  },
  "cells": [
    {
      "cell_type": "markdown",
      "metadata": {
        "id": "view-in-github",
        "colab_type": "text"
      },
      "source": [
        "<a href=\"https://colab.research.google.com/github/kimsh519/baekjoon_practice/blob/main/230501_2444.ipynb\" target=\"_parent\"><img src=\"https://colab.research.google.com/assets/colab-badge.svg\" alt=\"Open In Colab\"/></a>"
      ]
    },
    {
      "cell_type": "code",
      "execution_count": 3,
      "metadata": {
        "colab": {
          "base_uri": "https://localhost:8080/"
        },
        "id": "-dD2Xn0JKy-D",
        "outputId": "6dd9a02a-a786-402f-a00f-e22cab8ffa28"
      },
      "outputs": [
        {
          "output_type": "stream",
          "name": "stdout",
          "text": [
            "5\n",
            "    *\n",
            "   ***\n",
            "  *****\n",
            " *******\n",
            "*********\n",
            " *******\n",
            "  *****\n",
            "   ***\n",
            "    *\n"
          ]
        }
      ],
      "source": [
        "x = int(input())\n",
        "m=x\n",
        "c=0\n",
        "for j in range(x) :\n",
        "  n = 2*j+1\n",
        "  m -=1\n",
        "  for i in range(m) :\n",
        "    print(' ', end = '')\n",
        "  for k in range(n) :\n",
        "    print('*',end = '') \n",
        "  print() \n",
        "\n",
        "for j in range(x-1,0,-1) :\n",
        "  d = 2*j-1\n",
        "  c += 1\n",
        "  for k in range(c) :\n",
        "    print(' ', end = '')\n",
        "  for l in range(d) :\n",
        "    print('*',end = '') \n",
        "  \n",
        "  print() "
      ]
    },
    {
      "cell_type": "code",
      "source": [],
      "metadata": {
        "id": "__-cpLOhnEM3"
      },
      "execution_count": null,
      "outputs": []
    }
  ]
}