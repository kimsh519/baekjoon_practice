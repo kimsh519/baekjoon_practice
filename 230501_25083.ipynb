{
  "nbformat": 4,
  "nbformat_minor": 0,
  "metadata": {
    "colab": {
      "provenance": [],
      "authorship_tag": "ABX9TyMdKHsCgAP7aqK/9m5A4QW0",
      "include_colab_link": true
    },
    "kernelspec": {
      "name": "python3",
      "display_name": "Python 3"
    },
    "language_info": {
      "name": "python"
    }
  },
  "cells": [
    {
      "cell_type": "markdown",
      "metadata": {
        "id": "view-in-github",
        "colab_type": "text"
      },
      "source": [
        "<a href=\"https://colab.research.google.com/github/kimsh519/baekjoon_practice/blob/main/230501_25083.ipynb\" target=\"_parent\"><img src=\"https://colab.research.google.com/assets/colab-badge.svg\" alt=\"Open In Colab\"/></a>"
      ]
    },
    {
      "cell_type": "code",
      "execution_count": 1,
      "metadata": {
        "colab": {
          "base_uri": "https://localhost:8080/"
        },
        "id": "-dD2Xn0JKy-D",
        "outputId": "675c1cde-f833-4e42-f200-295b13585d47"
      },
      "outputs": [
        {
          "output_type": "stream",
          "name": "stdout",
          "text": [
            "         ,r'\"7\n",
            "r`-_   ,'  ,/\n",
            " \\. \". L_r'\n",
            "   `~\\/\n",
            "      |\n",
            "      |\n"
          ]
        }
      ],
      "source": [
        "print('         ,r\\'\\\"7')\n",
        "print('r`-_   ,\\'  ,/')\n",
        "print(' \\. \". L_r\\'')\n",
        "print('   `~\\/')\n",
        "print('      |')\n",
        "print('      |')"
      ]
    },
    {
      "cell_type": "code",
      "source": [],
      "metadata": {
        "id": "__-cpLOhnEM3"
      },
      "execution_count": null,
      "outputs": []
    }
  ]
}