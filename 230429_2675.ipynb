{
  "nbformat": 4,
  "nbformat_minor": 0,
  "metadata": {
    "colab": {
      "provenance": [],
      "authorship_tag": "ABX9TyO2pUwGTizpl+Ni/X3f+YwY",
      "include_colab_link": true
    },
    "kernelspec": {
      "name": "python3",
      "display_name": "Python 3"
    },
    "language_info": {
      "name": "python"
    }
  },
  "cells": [
    {
      "cell_type": "markdown",
      "metadata": {
        "id": "view-in-github",
        "colab_type": "text"
      },
      "source": [
        "<a href=\"https://colab.research.google.com/github/kimsh519/baekjoon_practice/blob/main/2675_0429.ipynb\" target=\"_parent\"><img src=\"https://colab.research.google.com/assets/colab-badge.svg\" alt=\"Open In Colab\"/></a>"
      ]
    },
    {
      "cell_type": "code",
      "execution_count": 29,
      "metadata": {
        "colab": {
          "base_uri": "https://localhost:8080/"
        },
        "id": "DH0gtPcmGXYm",
        "outputId": "9bc253e7-79b5-4120-d920-e14d3ae024f7"
      },
      "outputs": [
        {
          "output_type": "stream",
          "name": "stdout",
          "text": [
            "2\n",
            "3 ABC\n",
            "AAABBBCCC\n",
            "4 /HTP\n",
            "////HHHHTTTTPPPP\n"
          ]
        }
      ],
      "source": [
        "x_list=[]\n",
        "T = int(input())\n",
        "for i in range(T) :\n",
        "  R,S= input().split()\n",
        "  s = len(S)\n",
        "  r = int(R)\n",
        "  for i in range(s) :\n",
        "    print(S[i]*r, end = '')\n",
        "  print()\n",
        "\n",
        "  "
      ]
    },
    {
      "cell_type": "code",
      "source": [],
      "metadata": {
        "id": "LofzFlJuG4vY"
      },
      "execution_count": null,
      "outputs": []
    }
  ]
}
