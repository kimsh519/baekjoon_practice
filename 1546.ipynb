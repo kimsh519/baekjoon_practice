{
  "nbformat": 4,
  "nbformat_minor": 0,
  "metadata": {
    "colab": {
      "provenance": [],
      "authorship_tag": "ABX9TyPK9FwC9UYRWhMukiBrj1kn",
      "include_colab_link": true
    },
    "kernelspec": {
      "name": "python3",
      "display_name": "Python 3"
    },
    "language_info": {
      "name": "python"
    }
  },
  "cells": [
    {
      "cell_type": "markdown",
      "metadata": {
        "id": "view-in-github",
        "colab_type": "text"
      },
      "source": [
        "<a href=\"https://colab.research.google.com/github/kimsh519/baekjoon_practice/blob/main/1546.ipynb\" target=\"_parent\"><img src=\"https://colab.research.google.com/assets/colab-badge.svg\" alt=\"Open In Colab\"/></a>"
      ]
    },
    {
      "cell_type": "code",
      "execution_count": 7,
      "metadata": {
        "colab": {
          "base_uri": "https://localhost:8080/"
        },
        "id": "TRy9trBuvUwo",
        "outputId": "29e4e350-dd50-4309-d983-2fe0d32602df"
      },
      "outputs": [
        {
          "output_type": "stream",
          "name": "stdout",
          "text": [
            "3\n",
            "40 80 60\n",
            "75.0\n"
          ]
        }
      ],
      "source": [
        "N = int(input())\n",
        "x_list = list(map(int,input().split()))\n",
        "M = max(x_list)\n",
        "\n",
        "\n",
        "for i in range(N) :\n",
        "  x_list[i] = (x_list[i]/M)*100\n",
        "avg = sum(x_list)/N\n",
        "print(avg)"
      ]
    },
    {
      "cell_type": "code",
      "source": [],
      "metadata": {
        "id": "dHInxfITvsmE"
      },
      "execution_count": null,
      "outputs": []
    }
  ]
}