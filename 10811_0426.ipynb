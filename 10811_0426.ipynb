{
  "nbformat": 4,
  "nbformat_minor": 0,
  "metadata": {
    "colab": {
      "provenance": [],
      "authorship_tag": "ABX9TyMo/LZW9NRJVZUg46PqkRkC",
      "include_colab_link": true
    },
    "kernelspec": {
      "name": "python3",
      "display_name": "Python 3"
    },
    "language_info": {
      "name": "python"
    }
  },
  "cells": [
    {
      "cell_type": "markdown",
      "metadata": {
        "id": "view-in-github",
        "colab_type": "text"
      },
      "source": [
        "<a href=\"https://colab.research.google.com/github/kimsh519/baekjoon_practice/blob/main/10811_0426.ipynb\" target=\"_parent\"><img src=\"https://colab.research.google.com/assets/colab-badge.svg\" alt=\"Open In Colab\"/></a>"
      ]
    },
    {
      "cell_type": "code",
      "execution_count": 29,
      "metadata": {
        "colab": {
          "base_uri": "https://localhost:8080/"
        },
        "id": "ZS2kD5HjcJtI",
        "outputId": "ce7bb19e-d664-4bf9-8ed8-72297076b31f"
      },
      "outputs": [
        {
          "output_type": "stream",
          "name": "stdout",
          "text": [
            "5 4\n",
            "1 2\n",
            "3 4\n",
            "1 4\n",
            "2 2\n",
            "3 4 1 2 5 "
          ]
        }
      ],
      "source": [
        "# https://www.acmicpc.net/problem/10811\n",
        "x_list = []\n",
        "y_list = []\n",
        "n,m = map(int,input().split())\n",
        "for a in range(n) :\n",
        "  x = a+1\n",
        "  x_list.append(x)\n",
        "  y_list.append(x)\n",
        "for b in range(m) :\n",
        "  i,j = map(int,input().split())\n",
        "  while i<j :\n",
        "    y_list[i-1] = x_list[j-1]\n",
        "    y_list[j-1] = x_list[i-1]\n",
        "    i +=1\n",
        "    j -=1\n",
        "  for c in range(n) :\n",
        "    x_list[c] = y_list[c]\n",
        "    \n",
        "for d in range(n) :\n",
        "  print(y_list[d],end = ' ')"
      ]
    },
    {
      "cell_type": "code",
      "source": [],
      "metadata": {
        "id": "ifVxo7npd2eQ"
      },
      "execution_count": null,
      "outputs": []
    }
  ]
}