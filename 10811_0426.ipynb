{
  "nbformat": 4,
  "nbformat_minor": 0,
  "metadata": {
    "colab": {
      "provenance": [],
      "authorship_tag": "ABX9TyMKAMFo3A4/OxtovdDfKG1M",
      "include_colab_link": true
    },
    "kernelspec": {
      "name": "python3",
      "display_name": "Python 3"
    },
    "language_info": {
      "name": "python"
    }
  },
  "cells": [
    {
      "cell_type": "markdown",
      "metadata": {
        "id": "view-in-github",
        "colab_type": "text"
      },
      "source": [
        "<a href=\"https://colab.research.google.com/github/kimsh519/baekjoon_practice/blob/main/10811_0426.ipynb\" target=\"_parent\"><img src=\"https://colab.research.google.com/assets/colab-badge.svg\" alt=\"Open In Colab\"/></a>"
      ]
    },
    {
      "cell_type": "code",
      "execution_count": 28,
      "metadata": {
        "colab": {
          "base_uri": "https://localhost:8080/"
        },
        "id": "ZS2kD5HjcJtI",
        "outputId": "80105a09-5f11-4da2-e5e7-f7f8d474b96b"
      },
      "outputs": [
        {
          "output_type": "stream",
          "name": "stdout",
          "text": [
            "5 4\n",
            "1 2\n",
            "3 4\n",
            "1 4\n",
            "2 2\n",
            "[3, 4, 1, 2, 5]\n"
          ]
        }
      ],
      "source": [
        "# https://www.acmicpc.net/problem/10811\n",
        "x_list = []\n",
        "y_list = []\n",
        "n,m = map(int,input().split())\n",
        "for a in range(n) :\n",
        "  x = a+1\n",
        "  x_list.append(x)\n",
        "  y_list.append(x)\n",
        "for b in range(m) :\n",
        "  i,j = map(int,input().split())\n",
        "  while i<j :\n",
        "    y_list[i-1] = x_list[j-1]\n",
        "    y_list[j-1] = x_list[i-1]\n",
        "    i +=1\n",
        "    j -=1\n",
        "  for c in range(n) :\n",
        "    x_list[c] = y_list[c]\n",
        "    \n",
        "    \n",
        "print(y_list)"
      ]
    },
    {
      "cell_type": "code",
      "source": [
        "5"
      ],
      "metadata": {
        "id": "ifVxo7npd2eQ"
      },
      "execution_count": null,
      "outputs": []
    }
  ]
}