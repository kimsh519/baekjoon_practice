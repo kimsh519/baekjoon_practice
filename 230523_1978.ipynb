{
  "nbformat": 4,
  "nbformat_minor": 0,
  "metadata": {
    "colab": {
      "provenance": [],
      "authorship_tag": "ABX9TyMhc9Sqw6QOd3RITXBLGHo+",
      "include_colab_link": true
    },
    "kernelspec": {
      "name": "python3",
      "display_name": "Python 3"
    },
    "language_info": {
      "name": "python"
    }
  },
  "cells": [
    {
      "cell_type": "markdown",
      "metadata": {
        "id": "view-in-github",
        "colab_type": "text"
      },
      "source": [
        "<a href=\"https://colab.research.google.com/github/kimsh519/baekjoon_practice/blob/main/230523_1978.ipynb\" target=\"_parent\"><img src=\"https://colab.research.google.com/assets/colab-badge.svg\" alt=\"Open In Colab\"/></a>"
      ]
    },
    {
      "cell_type": "code",
      "execution_count": 1,
      "metadata": {
        "colab": {
          "base_uri": "https://localhost:8080/"
        },
        "id": "-dD2Xn0JKy-D",
        "outputId": "d84ccb60-11cd-4a16-c701-95566be49d8e"
      },
      "outputs": [
        {
          "output_type": "stream",
          "name": "stdout",
          "text": [
            "4\n",
            "1 3 5 7\n",
            "3\n"
          ]
        }
      ],
      "source": [
        "N = int(input())\n",
        "\n",
        "count1 = 0\n",
        "count2 = 0\n",
        "x_list = list(map(int,input().split()))\n",
        "for i in x_list :\n",
        "  for j in range(1,i+1) :\n",
        "    if i % j == 0 :\n",
        "      count1 += 1\n",
        "  if count1 == 2 :\n",
        "    count2 += 1\n",
        "  count1 = 0\n",
        "print(count2)"
      ]
    },
    {
      "cell_type": "code",
      "source": [],
      "metadata": {
        "id": "2ULAJq73FVrN"
      },
      "execution_count": null,
      "outputs": []
    }
  ]
}