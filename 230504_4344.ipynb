{
  "nbformat": 4,
  "nbformat_minor": 0,
  "metadata": {
    "colab": {
      "provenance": [],
      "authorship_tag": "ABX9TyOZilP7NaPFHr7fFMxyqmZ/",
      "include_colab_link": true
    },
    "kernelspec": {
      "name": "python3",
      "display_name": "Python 3"
    },
    "language_info": {
      "name": "python"
    }
  },
  "cells": [
    {
      "cell_type": "markdown",
      "metadata": {
        "id": "view-in-github",
        "colab_type": "text"
      },
      "source": [
        "<a href=\"https://colab.research.google.com/github/kimsh519/baekjoon_practice/blob/main/230504_4344.ipynb\" target=\"_parent\"><img src=\"https://colab.research.google.com/assets/colab-badge.svg\" alt=\"Open In Colab\"/></a>"
      ]
    },
    {
      "cell_type": "code",
      "execution_count": 1,
      "metadata": {
        "colab": {
          "base_uri": "https://localhost:8080/"
        },
        "id": "GkZ7WJVHe4Jn",
        "outputId": "ed572f84-0789-4412-d8fd-b16ea3ca8787"
      },
      "outputs": [
        {
          "output_type": "stream",
          "name": "stdout",
          "text": [
            "5\n",
            "5 50 50 70 80 100\n",
            "40.000%\n",
            "7 100 95 90 80 70 60 50\n",
            "57.143%\n",
            "3 70 90 80\n",
            "33.333%\n",
            "3 70 90 81\n",
            "66.667%\n",
            "9 100 99 98 97 96 95 94 93 91\n",
            "55.556%\n"
          ]
        }
      ],
      "source": [
        "sum_score = 0\n",
        "score_list = []\n",
        "count = 0\n",
        "C = int(input())\n",
        "for i in range(C) :\n",
        "  N_score = list(map(int,input().split()))\n",
        "  len_score = len(N_score)\n",
        "  for i in range(1,len_score) :\n",
        "    sum_score += N_score[i]\n",
        "  avg_score = sum_score/N_score[0]\n",
        "  for i in range(1,len_score) :\n",
        "    if N_score[i] > avg_score :\n",
        "      count += 1\n",
        "  percentage = count/N_score[0] *100\n",
        "  print(f'{percentage:.3f}%')\n",
        "  count = 0\n",
        "  sum_score = 0\n",
        "  avg_score = 0"
      ]
    },
    {
      "cell_type": "code",
      "source": [],
      "metadata": {
        "id": "SkkGjNTPe5tS"
      },
      "execution_count": null,
      "outputs": []
    }
  ]
}