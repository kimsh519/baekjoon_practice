{
  "nbformat": 4,
  "nbformat_minor": 0,
  "metadata": {
    "colab": {
      "provenance": [],
      "authorship_tag": "ABX9TyNd1h5/7dG7t0KCH9ZLBGMG",
      "include_colab_link": true
    },
    "kernelspec": {
      "name": "python3",
      "display_name": "Python 3"
    },
    "language_info": {
      "name": "python"
    }
  },
  "cells": [
    {
      "cell_type": "markdown",
      "metadata": {
        "id": "view-in-github",
        "colab_type": "text"
      },
      "source": [
        "<a href=\"https://colab.research.google.com/github/kimsh519/baekjoon_practice/blob/main/230517_1193.ipynb\" target=\"_parent\"><img src=\"https://colab.research.google.com/assets/colab-badge.svg\" alt=\"Open In Colab\"/></a>"
      ]
    },
    {
      "cell_type": "code",
      "execution_count": 25,
      "metadata": {
        "colab": {
          "base_uri": "https://localhost:8080/"
        },
        "id": "-dD2Xn0JKy-D",
        "outputId": "b786581c-cd4e-48ca-f124-0b6cd393027e"
      },
      "outputs": [
        {
          "output_type": "stream",
          "name": "stdout",
          "text": [
            "14\n",
            "2/4"
          ]
        }
      ],
      "source": [
        "X = int(input())\n",
        "a = 0\n",
        "x = 0\n",
        "y = 0\n",
        "while a**2/2+3*a/2+1 < X :\n",
        "  a +=1\n",
        "b = a+1\n",
        "sum_b = b*(b+1)/2\n",
        "count_a = int(b-(sum_b-X))\n",
        "\n",
        "if b%2 == 0 :\n",
        " y = b-count_a+1\n",
        " x = count_a\n",
        "else :\n",
        "  x = b-count_a+1\n",
        "  y = count_a\n",
        "\n",
        "print(x,end='')\n",
        "print('/',end='')\n",
        "print(y,end='') \n",
        "\n",
        "\n"
      ]
    },
    {
      "cell_type": "code",
      "source": [
        "66"
      ],
      "metadata": {
        "id": "j1DvnKfXYPNJ"
      },
      "execution_count": null,
      "outputs": []
    }
  ]
}