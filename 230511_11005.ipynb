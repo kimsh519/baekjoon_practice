{
  "nbformat": 4,
  "nbformat_minor": 0,
  "metadata": {
    "colab": {
      "provenance": [],
      "authorship_tag": "ABX9TyPG+S+XT3TBLY/q4VFq6CV8",
      "include_colab_link": true
    },
    "kernelspec": {
      "name": "python3",
      "display_name": "Python 3"
    },
    "language_info": {
      "name": "python"
    }
  },
  "cells": [
    {
      "cell_type": "markdown",
      "metadata": {
        "id": "view-in-github",
        "colab_type": "text"
      },
      "source": [
        "<a href=\"https://colab.research.google.com/github/kimsh519/baekjoon_practice/blob/main/230511_11005.ipynb\" target=\"_parent\"><img src=\"https://colab.research.google.com/assets/colab-badge.svg\" alt=\"Open In Colab\"/></a>"
      ]
    },
    {
      "cell_type": "code",
      "execution_count": 1,
      "metadata": {
        "colab": {
          "base_uri": "https://localhost:8080/"
        },
        "id": "-dD2Xn0JKy-D",
        "outputId": "524af338-5b9c-42b5-84df-1abecad6bd5f"
      },
      "outputs": [
        {
          "output_type": "stream",
          "name": "stdout",
          "text": [
            "60466175 36\n",
            "ZZZZZ\n"
          ]
        }
      ],
      "source": [
        "N,B = map(int,input().split())\n",
        "N_list = []\n",
        "\n",
        "while N/B >= 1 :\n",
        "  a = int(N%B)\n",
        "  N = int(N/B)\n",
        "  if a >= 10 :\n",
        "    a = chr(a+55)\n",
        "  N_list.append(a)\n",
        "if N >= 10 :\n",
        "  N = chr(N+55)\n",
        "N_list.append(N)\n",
        "to_str = ''.join(str(i) for i in N_list)\n",
        "result = to_str[::-1]\n",
        "print(result)\n"
      ]
    },
    {
      "cell_type": "code",
      "source": [],
      "metadata": {
        "id": "YNMZUaCvX0mE"
      },
      "execution_count": null,
      "outputs": []
    }
  ]
}