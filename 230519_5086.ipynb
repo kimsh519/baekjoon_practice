{
  "nbformat": 4,
  "nbformat_minor": 0,
  "metadata": {
    "colab": {
      "provenance": [],
      "authorship_tag": "ABX9TyMBIzi3A6yogR7fyKHOC+Mx",
      "include_colab_link": true
    },
    "kernelspec": {
      "name": "python3",
      "display_name": "Python 3"
    },
    "language_info": {
      "name": "python"
    }
  },
  "cells": [
    {
      "cell_type": "markdown",
      "metadata": {
        "id": "view-in-github",
        "colab_type": "text"
      },
      "source": [
        "<a href=\"https://colab.research.google.com/github/kimsh519/baekjoon_practice/blob/main/230519_5086.ipynb\" target=\"_parent\"><img src=\"https://colab.research.google.com/assets/colab-badge.svg\" alt=\"Open In Colab\"/></a>"
      ]
    },
    {
      "cell_type": "code",
      "execution_count": 1,
      "metadata": {
        "colab": {
          "base_uri": "https://localhost:8080/"
        },
        "id": "jyemNgLFu-RE",
        "outputId": "d93f961b-e115-4a8a-9a6d-2a8bab801cc2"
      },
      "outputs": [
        {
          "name": "stdout",
          "output_type": "stream",
          "text": [
            "8 16\n",
            "factor\n",
            "32 4\n",
            "multiple\n",
            "17 5\n",
            "neither\n",
            "0 0\n"
          ]
        }
      ],
      "source": [
        "x=1\n",
        "y=1\n",
        "while x != 0 and y != 0 : \n",
        "  x,y = map(int,input().split())\n",
        "  try :\n",
        "    if x%y == 0 :\n",
        "      print('multiple')\n",
        "    elif y%x == 0 :\n",
        "      print('factor')\n",
        "    else :\n",
        "      print('neither')\n",
        "  except  :\n",
        "    break"
      ]
    },
    {
      "cell_type": "code",
      "source": [],
      "metadata": {
        "id": "gQGLB0a-vD06"
      },
      "execution_count": null,
      "outputs": []
    }
  ]
}