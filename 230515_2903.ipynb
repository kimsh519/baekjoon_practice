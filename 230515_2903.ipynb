{
  "nbformat": 4,
  "nbformat_minor": 0,
  "metadata": {
    "colab": {
      "provenance": [],
      "authorship_tag": "ABX9TyO+FYtMGRrdqf313uHrhPSD",
      "include_colab_link": true
    },
    "kernelspec": {
      "name": "python3",
      "display_name": "Python 3"
    },
    "language_info": {
      "name": "python"
    }
  },
  "cells": [
    {
      "cell_type": "markdown",
      "metadata": {
        "id": "view-in-github",
        "colab_type": "text"
      },
      "source": [
        "<a href=\"https://colab.research.google.com/github/kimsh519/baekjoon_practice/blob/main/230515_2903.ipynb\" target=\"_parent\"><img src=\"https://colab.research.google.com/assets/colab-badge.svg\" alt=\"Open In Colab\"/></a>"
      ]
    },
    {
      "cell_type": "code",
      "execution_count": 2,
      "metadata": {
        "colab": {
          "base_uri": "https://localhost:8080/"
        },
        "id": "DH0gtPcmGXYm",
        "outputId": "dd2c0443-f406-470c-ec66-c5a73d76519b"
      },
      "outputs": [
        {
          "output_type": "stream",
          "name": "stdout",
          "text": [
            "5\n",
            "1089\n"
          ]
        }
      ],
      "source": [
        "d = 0\n",
        "a_sum = 2\n",
        "x = int(input())\n",
        "for i in range(1,x+1) :\n",
        "  d = 2 ** (i-1)\n",
        "  a_sum = a_sum + d\n",
        "result = a_sum * a_sum\n",
        "print(result)\n",
        "  \n",
        "  \n",
        "\n",
        "  \n",
        "  "
      ]
    },
    {
      "cell_type": "code",
      "source": [],
      "metadata": {
        "id": "LofzFlJuG4vY"
      },
      "execution_count": null,
      "outputs": []
    }
  ]
}