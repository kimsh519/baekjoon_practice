{
  "nbformat": 4,
  "nbformat_minor": 0,
  "metadata": {
    "colab": {
      "provenance": [],
      "authorship_tag": "ABX9TyPnHA7LgOKGeB8iINpMquhz",
      "include_colab_link": true
    },
    "kernelspec": {
      "name": "python3",
      "display_name": "Python 3"
    },
    "language_info": {
      "name": "python"
    }
  },
  "cells": [
    {
      "cell_type": "markdown",
      "metadata": {
        "id": "view-in-github",
        "colab_type": "text"
      },
      "source": [
        "<a href=\"https://colab.research.google.com/github/kimsh519/baekjoon_practice/blob/main/230509_2563.ipynb\" target=\"_parent\"><img src=\"https://colab.research.google.com/assets/colab-badge.svg\" alt=\"Open In Colab\"/></a>"
      ]
    },
    {
      "cell_type": "code",
      "execution_count": 1,
      "metadata": {
        "colab": {
          "base_uri": "https://localhost:8080/"
        },
        "id": "MUQi7IBTg_Xf",
        "outputId": "b579509a-9a07-45c6-ce3c-4bce8639b54f"
      },
      "outputs": [
        {
          "output_type": "stream",
          "name": "stdout",
          "text": [
            "3\n",
            "3 7\n",
            "15 7\n",
            "5 2\n",
            "260\n"
          ]
        }
      ],
      "source": [
        "same = 0\n",
        "z_list = []\n",
        "N = int(input())\n",
        "for i in range(N) :\n",
        "  x,y = map(int,input().split())\n",
        "  for j in range(10) :\n",
        "    for k in range(10) :\n",
        "      z= [x+j,y+k]\n",
        "      if z in z_list :\n",
        "        same += 1\n",
        "      z_list.append(z)\n",
        "area = N*100 - same\n",
        "print(area)"
      ]
    },
    {
      "cell_type": "code",
      "source": [],
      "metadata": {
        "id": "yF1xrLtzhGLY"
      },
      "execution_count": null,
      "outputs": []
    }
  ]
}