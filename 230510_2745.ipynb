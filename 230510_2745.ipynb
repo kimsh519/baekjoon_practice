{
  "nbformat": 4,
  "nbformat_minor": 0,
  "metadata": {
    "colab": {
      "provenance": [],
      "authorship_tag": "ABX9TyMMyt/FkW3DGL4Xmcp+wjxW",
      "include_colab_link": true
    },
    "kernelspec": {
      "name": "python3",
      "display_name": "Python 3"
    },
    "language_info": {
      "name": "python"
    }
  },
  "cells": [
    {
      "cell_type": "markdown",
      "metadata": {
        "id": "view-in-github",
        "colab_type": "text"
      },
      "source": [
        "<a href=\"https://colab.research.google.com/github/kimsh519/baekjoon_practice/blob/main/230510_2745.ipynb\" target=\"_parent\"><img src=\"https://colab.research.google.com/assets/colab-badge.svg\" alt=\"Open In Colab\"/></a>"
      ]
    },
    {
      "cell_type": "code",
      "execution_count": 1,
      "metadata": {
        "colab": {
          "base_uri": "https://localhost:8080/"
        },
        "id": "DH0gtPcmGXYm",
        "outputId": "edd7f2e5-efcc-4d4c-fc6c-13ad52ca5b40"
      },
      "outputs": [
        {
          "output_type": "stream",
          "name": "stdout",
          "text": [
            "ZZZZZ 36\n",
            "60466175\n"
          ]
        }
      ],
      "source": [
        "N,B = input().split()\n",
        "N_list = []\n",
        "sum_value = 0\n",
        "for i in range(len(N)) :\n",
        "  if ord(N[i]) < 58 :\n",
        "    N_list.append(ord(N[i])-48)\n",
        "  else :\n",
        "    N_list.append(ord(N[i])-55)\n",
        "for i in range(len(N)) :    \n",
        "  value = N_list[len(N)-1-i] * int(B)**i\n",
        "  sum_value = sum_value + value\n",
        "print(sum_value)\n",
        "\n",
        "  \n",
        "  \n",
        "\n",
        "  \n",
        "  "
      ]
    },
    {
      "cell_type": "code",
      "source": [],
      "metadata": {
        "id": "LofzFlJuG4vY"
      },
      "execution_count": null,
      "outputs": []
    }
  ]
}