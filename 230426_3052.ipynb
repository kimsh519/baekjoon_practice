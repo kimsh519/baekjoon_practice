{
  "nbformat": 4,
  "nbformat_minor": 0,
  "metadata": {
    "colab": {
      "provenance": [],
      "authorship_tag": "ABX9TyMD7+TF9zYguZ+oNGe4gDan",
      "include_colab_link": true
    },
    "kernelspec": {
      "name": "python3",
      "display_name": "Python 3"
    },
    "language_info": {
      "name": "python"
    }
  },
  "cells": [
    {
      "cell_type": "markdown",
      "metadata": {
        "id": "view-in-github",
        "colab_type": "text"
      },
      "source": [
        "<a href=\"https://colab.research.google.com/github/kimsh519/baekjoon_practice/blob/main/3052.ipynb\" target=\"_parent\"><img src=\"https://colab.research.google.com/assets/colab-badge.svg\" alt=\"Open In Colab\"/></a>"
      ]
    },
    {
      "cell_type": "code",
      "execution_count": 23,
      "metadata": {
        "colab": {
          "base_uri": "https://localhost:8080/"
        },
        "id": "2aMNQM8OISNc",
        "outputId": "94de44ff-eb8d-4049-cc3b-2c30f18edc51"
      },
      "outputs": [
        {
          "output_type": "stream",
          "name": "stdout",
          "text": [
            "39\n",
            "40\n",
            "41\n",
            "42\n",
            "43\n",
            "44\n",
            "82\n",
            "83\n",
            "84\n",
            "85\n",
            "6\n"
          ]
        }
      ],
      "source": [
        "x_list = []\n",
        "y_list = []\n",
        "for i in range(10) :\n",
        "  x = int(input())\n",
        "  x_list.append(x)\n",
        "  y_list.append(0)\n",
        "  \n",
        "for j in range(10) :\n",
        "  y_list[j] = (x_list[j]%42)\n",
        "y_set = set(y_list)\n",
        "a = len(list(y_set))\n",
        "print(a)"
      ]
    },
    {
      "cell_type": "code",
      "source": [
        "44444448"
      ],
      "metadata": {
        "id": "DXgSa-BPK1q8"
      },
      "execution_count": null,
      "outputs": []
    }
  ]
}
