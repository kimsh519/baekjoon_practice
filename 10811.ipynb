# https://www.acmicpc.net/problem/10811
x_list = []
y_list = []
n,m = map(int,input().split())
for a in range(n) :
  x = a+1
  x_list.append(x)
  y_list.append(x)
for b in range(m) :
  i,j = map(int,input().split())
  while i<j :
    y_list[i-1] = x_list[j-1]
    y_list[j-1] = x_list[i-1]
    i +=1
    j -=1
  for c in range(n) :
    x_list[c] = y_list[c]
    
for d in range(n) :
  print(y_list[d],end = ' ')


5 4
1 2
3 4
1 4
2 2
3 4 1 2 5 
