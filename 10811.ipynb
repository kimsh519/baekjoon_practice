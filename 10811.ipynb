{
  "nbformat": 4,
  "nbformat_minor": 0,
  "metadata": {
    "colab": {
      "provenance": [],
      "authorship_tag": "ABX9TyOTOg7R3/Exp7qCmjgNN/AJ",
      "include_colab_link": true
    },
    "kernelspec": {
      "name": "python3",
      "display_name": "Python 3"
    },
    "language_info": {
      "name": "python"
    }
  },
  "cells": [
    {
      "cell_type": "markdown",
      "metadata": {
        "id": "view-in-github",
        "colab_type": "text"
      },
      "source": [
        "<a href=\"https://colab.research.google.com/github/kimsh519/baekjoon_practice/blob/main/10811.ipynb\" target=\"_parent\"><img src=\"https://colab.research.google.com/assets/colab-badge.svg\" alt=\"Open In Colab\"/></a>"
      ]
    },
    {
      "cell_type": "code",
      "execution_count": null,
      "metadata": {
        "colab": {
          "base_uri": "https://localhost:8080/"
        },
        "id": "9M9B_sPuptTQ",
        "outputId": "90a0d6f9-f3cf-471c-f73f-593948483828"
      },
      "outputs": [
        {
          "output_type": "stream",
          "name": "stdout",
          "text": [
            "5 4\n",
            "1 2\n",
            "3 4\n",
            "1 4\n",
            "2 2\n",
            "3 4 1 2 5 "
          ]
        }
      ],
      "source": [
        "\n",
        "x_list = []\n",
        "y_list = []\n",
        "n,m = map(int,input().split())\n",
        "for a in range(n) :\n",
        "  x = a+1\n",
        "  x_list.append(x)\n",
        "  y_list.append(x)\n",
        "for b in range(m) :\n",
        "  i,j = map(int,input().split())\n",
        "  while i<j :\n",
        "    y_list[i-1] = x_list[j-1]\n",
        "    y_list[j-1] = x_list[i-1]\n",
        "    i +=1\n",
        "    j -=1\n",
        "  for c in range(n) :\n",
        "    x_list[c] = y_list[c]\n",
        "    \n",
        "for d in range(n) :\n",
        "  print(y_list[d],end = ' ')"
      ]
    },
    {
      "cell_type": "code",
      "source": [],
      "metadata": {
        "id": "eZjef37Up6-R"
      },
      "execution_count": null,
      "outputs": []
    }
  ]
}