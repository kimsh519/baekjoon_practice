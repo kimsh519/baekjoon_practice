{
  "nbformat": 4,
  "nbformat_minor": 0,
  "metadata": {
    "colab": {
      "provenance": [],
      "authorship_tag": "ABX9TyM99Q4oLnmWOy/eMbHgDlSg",
      "include_colab_link": true
    },
    "kernelspec": {
      "name": "python3",
      "display_name": "Python 3"
    },
    "language_info": {
      "name": "python"
    }
  },
  "cells": [
    {
      "cell_type": "markdown",
      "metadata": {
        "id": "view-in-github",
        "colab_type": "text"
      },
      "source": [
        "<a href=\"https://colab.research.google.com/github/kimsh519/baekjoon_practice/blob/main/230505_2941.ipynb\" target=\"_parent\"><img src=\"https://colab.research.google.com/assets/colab-badge.svg\" alt=\"Open In Colab\"/></a>"
      ]
    },
    {
      "cell_type": "code",
      "execution_count": 68,
      "metadata": {
        "colab": {
          "base_uri": "https://localhost:8080/"
        },
        "id": "-dD2Xn0JKy-D",
        "outputId": "82ab1614-c251-4fd7-b723-0f9cc0a34a73"
      },
      "outputs": [
        {
          "output_type": "stream",
          "name": "stdout",
          "text": [
            "dz=dz=\n",
            "2\n"
          ]
        }
      ],
      "source": [
        "a = 'c='\n",
        "b = 'c-'\n",
        "c = 'dz='\n",
        "d = 'd-'\n",
        "e = 'lj'\n",
        "f = 'nj'\n",
        "g = 's='\n",
        "h = 'z='\n",
        "count1 = 0\n",
        "count2 = 0\n",
        "count3 = 0\n",
        "j = 0\n",
        "k = 0\n",
        "x = input()\n",
        "y_list = [a,b,c,d,e,f,g,h]\n",
        "#print(y_list)\n",
        "#print(x)\n",
        "for i in range(0,len(x)) :\n",
        "  if j <= len(x) :\n",
        "    if i <= (len(x)-2) :\n",
        "    \n",
        "      x_list = x[j:j+2]\n",
        "      #print(x_list)\n",
        "      if len(x_list) == 2 :\n",
        "        if x_list in y_list :\n",
        "          j += 2\n",
        "          count2 += 1\n",
        "        else :\n",
        "          j += 1\n",
        "for i in range(0,len(x)) :\n",
        "  if k <= len(x) :\n",
        "    if i <= (len(x)-3) :\n",
        "      z_list = x[k:k+3]\n",
        "      \n",
        "      if len(z_list) == 3 :\n",
        "        if z_list in y_list :\n",
        "          k += 3\n",
        "          count3 += 1\n",
        "        else :\n",
        "          k += 1\n",
        "\n",
        "\n",
        "  count1 += 1\n",
        " \n",
        "if count3 !=0 :\n",
        "  count2 = count2 -count3\n",
        "total = count1 -count2 -2*count3\n",
        "#print(count1,count2,count3)\n",
        "print(total)"
      ]
    },
    {
      "cell_type": "code",
      "source": [
        "dz=akddz=z="
      ],
      "metadata": {
        "id": "__-cpLOhnEM3"
      },
      "execution_count": 27,
      "outputs": []
    },
    {
      "cell_type": "code",
      "source": [],
      "metadata": {
        "id": "DtQpyhJL4gKm"
      },
      "execution_count": null,
      "outputs": []
    }
  ]
}