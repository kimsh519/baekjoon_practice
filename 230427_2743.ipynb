{
  "nbformat": 4,
  "nbformat_minor": 0,
  "metadata": {
    "colab": {
      "provenance": [],
      "authorship_tag": "ABX9TyOAlRDulL0yEq/RW0IZ/z7R",
      "include_colab_link": true
    },
    "kernelspec": {
      "name": "python3",
      "display_name": "Python 3"
    },
    "language_info": {
      "name": "python"
    }
  },
  "cells": [
    {
      "cell_type": "markdown",
      "metadata": {
        "id": "view-in-github",
        "colab_type": "text"
      },
      "source": [
        "<a href=\"https://colab.research.google.com/github/kimsh519/baekjoon_practice/blob/main/2743_0427.ipynb\" target=\"_parent\"><img src=\"https://colab.research.google.com/assets/colab-badge.svg\" alt=\"Open In Colab\"/></a>"
      ]
    },
    {
      "cell_type": "code",
      "execution_count": 7,
      "metadata": {
        "colab": {
          "base_uri": "https://localhost:8080/"
        },
        "id": "DH0gtPcmGXYm",
        "outputId": "d14e5353-25e3-4564-b7c7-50b76f529ae9"
      },
      "outputs": [
        {
          "output_type": "stream",
          "name": "stdout",
          "text": [
            "pulljima\n",
            "8\n"
          ]
        }
      ],
      "source": [
        "S = input()\n",
        "count = 0\n",
        "for i in S :\n",
        "  count +=1\n",
        "\n",
        "print(count)"
      ]
    },
    {
      "cell_type": "code",
      "source": [],
      "metadata": {
        "id": "LofzFlJuG4vY"
      },
      "execution_count": null,
      "outputs": []
    }
  ]
}
