{
  "nbformat": 4,
  "nbformat_minor": 0,
  "metadata": {
    "colab": {
      "provenance": [],
      "authorship_tag": "ABX9TyNbWOGODsZx8dgqgyJbVgYB",
      "include_colab_link": true
    },
    "kernelspec": {
      "name": "python3",
      "display_name": "Python 3"
    },
    "language_info": {
      "name": "python"
    }
  },
  "cells": [
    {
      "cell_type": "markdown",
      "metadata": {
        "id": "view-in-github",
        "colab_type": "text"
      },
      "source": [
        "<a href=\"https://colab.research.google.com/github/kimsh519/baekjoon_practice/blob/main/230508_2566.ipynb\" target=\"_parent\"><img src=\"https://colab.research.google.com/assets/colab-badge.svg\" alt=\"Open In Colab\"/></a>"
      ]
    },
    {
      "cell_type": "code",
      "execution_count": 39,
      "metadata": {
        "colab": {
          "base_uri": "https://localhost:8080/"
        },
        "id": "-dD2Xn0JKy-D",
        "outputId": "92753d71-1919-4c5a-8a08-1bfcf0527035"
      },
      "outputs": [
        {
          "output_type": "stream",
          "name": "stdout",
          "text": [
            "3 23 85 34 17 74 25 52 65\n",
            "10 7 39 42 88 52 14 72 63\n",
            "87 42 18 78 53 45 18 84 53\n",
            "34 28 64 85 12 16 75 36 55\n",
            "21 77 45 35 28 75 90 76 1\n",
            "25 87 65 15 28 11 37 28 74\n",
            "65 27 75 41 7 89 78 64 39\n",
            "47 47 70 45 23 65 3 41 44\n",
            "87 13 82 38 31 12 29 29 80\n",
            "90\n",
            "5 7\n"
          ]
        }
      ],
      "source": [
        "x_list = []\n",
        "i_max = 0\n",
        "j_max = 0\n",
        "max_value = 0\n",
        "find_max = 0\n",
        "for i in range(9) :\n",
        "  x = list(map(int,input().split()))\n",
        "  for j in range(9) :\n",
        "    if x[j] > max_value :\n",
        "      max_value = x[j]\n",
        "      i_max = i\n",
        "  x_list.append(x)\n",
        "\n",
        "for j in range(9) :\n",
        "  if x_list[i_max][j] > find_max :\n",
        "    find_max = x_list[i_max][j]\n",
        "    j_max = j\n",
        "print(max_value)\n",
        "print(i_max+1,j_max+1)\n",
        "\n"
      ]
    },
    {
      "cell_type": "code",
      "source": [],
      "metadata": {
        "id": "YNMZUaCvX0mE"
      },
      "execution_count": null,
      "outputs": []
    }
  ]
}