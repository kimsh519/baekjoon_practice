{
  "nbformat": 4,
  "nbformat_minor": 0,
  "metadata": {
    "colab": {
      "provenance": [],
      "authorship_tag": "ABX9TyOFTuS/e9i/XPyyRnq07o0b",
      "include_colab_link": true
    },
    "kernelspec": {
      "name": "python3",
      "display_name": "Python 3"
    },
    "language_info": {
      "name": "python"
    }
  },
  "cells": [
    {
      "cell_type": "markdown",
      "metadata": {
        "id": "view-in-github",
        "colab_type": "text"
      },
      "source": [
        "<a href=\"https://colab.research.google.com/github/kimsh519/baekjoon_practice/blob/main/230503_1157.ipynb\" target=\"_parent\"><img src=\"https://colab.research.google.com/assets/colab-badge.svg\" alt=\"Open In Colab\"/></a>"
      ]
    },
    {
      "cell_type": "code",
      "execution_count": 2,
      "metadata": {
        "colab": {
          "base_uri": "https://localhost:8080/"
        },
        "id": "FsZiXso3ueLk",
        "outputId": "5fdfc66d-6371-40af-c99d-4633ea30abf0"
      },
      "outputs": [
        {
          "output_type": "stream",
          "name": "stdout",
          "text": [
            "Mississipi\n",
            "?\n"
          ]
        }
      ],
      "source": [
        "a = input()\n",
        "b_list = []\n",
        "c_list = []\n",
        "d_list = []\n",
        "count = 0\n",
        "\n",
        "for i in a :\n",
        "  b = i.lower()\n",
        "  b_list.append(b)\n",
        "  b_len = len(b_list)\n",
        "for i in range(b_len) :\n",
        "  if b_list[i] not in d_list :\n",
        "    d = b_list[i]\n",
        "    d_list.append(d)\n",
        "    c = b_list.count(b_list[i])\n",
        "    c_list.append(c)\n",
        "\n",
        "for j in range(len(c_list)) :\n",
        "  \n",
        "  if c_list[j] == max(c_list) :\n",
        "    count += 1\n",
        "    \n",
        "if count > 1 :\n",
        "  print('?')\n",
        "elif count == 1 :\n",
        "  for j in range(len(c_list)) :\n",
        "    if c_list[j] == max(c_list) :\n",
        "      print(d_list[j].upper())"
      ]
    },
    {
      "cell_type": "code",
      "source": [],
      "metadata": {
        "id": "QWXVG8E5_oNx"
      },
      "execution_count": null,
      "outputs": []
    }
  ]
}