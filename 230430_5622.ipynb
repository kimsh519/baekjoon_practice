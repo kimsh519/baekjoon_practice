{
  "nbformat": 4,
  "nbformat_minor": 0,
  "metadata": {
    "colab": {
      "provenance": [],
      "authorship_tag": "ABX9TyM1JytM2cLBfPTOPnqbNotL",
      "include_colab_link": true
    },
    "kernelspec": {
      "name": "python3",
      "display_name": "Python 3"
    },
    "language_info": {
      "name": "python"
    }
  },
  "cells": [
    {
      "cell_type": "markdown",
      "metadata": {
        "id": "view-in-github",
        "colab_type": "text"
      },
      "source": [
        "<a href=\"https://colab.research.google.com/github/kimsh519/baekjoon_practice/blob/main/0430_5622.ipynb\" target=\"_parent\"><img src=\"https://colab.research.google.com/assets/colab-badge.svg\" alt=\"Open In Colab\"/></a>"
      ]
    },
    {
      "cell_type": "code",
      "execution_count": 94,
      "metadata": {
        "colab": {
          "base_uri": "https://localhost:8080/"
        },
        "id": "DI-Hc-_n78KH",
        "outputId": "9eb931ca-f65d-41dd-bb68-764cf9255cef"
      },
      "outputs": [
        {
          "output_type": "stream",
          "name": "stdout",
          "text": [
            "UNUCIC\n",
            "36\n"
          ]
        }
      ],
      "source": [
        "c_list = []\n",
        "sum = 0\n",
        "a = [['A','B','C','0'],['D','E','F','0'],['G','H','I','0'],['J','K','L','0']\n",
        "     ,['M','N','O','0'],['P','Q','R','S'],['T','U','V','0'],['W','X','Y','Z']]\n",
        "b = input()\n",
        "for i in b :\n",
        "  c = i\n",
        "  c_list.append(c)\n",
        "  d = len(c_list)\n",
        "\n",
        "for k in range(d):\n",
        "  for j in range(8):\n",
        "    for l in range(4) :\n",
        "      if c_list[k] == a[j][l] :\n",
        "        sum = sum+(j+3)      \n",
        "print(sum)    \n",
        "        \n",
        "        \n",
        "        "
      ]
    },
    {
      "cell_type": "code",
      "source": [],
      "metadata": {
        "id": "pNvR7BXjIVDU"
      },
      "execution_count": null,
      "outputs": []
    }
  ]
}
