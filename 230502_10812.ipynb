{
  "nbformat": 4,
  "nbformat_minor": 0,
  "metadata": {
    "colab": {
      "provenance": [],
      "authorship_tag": "ABX9TyOc4OZ4ahQsafDGeMjnCJ03",
      "include_colab_link": true
    },
    "kernelspec": {
      "name": "python3",
      "display_name": "Python 3"
    },
    "language_info": {
      "name": "python"
    }
  },
  "cells": [
    {
      "cell_type": "markdown",
      "metadata": {
        "id": "view-in-github",
        "colab_type": "text"
      },
      "source": [
        "<a href=\"https://colab.research.google.com/github/kimsh519/baekjoon_practice/blob/main/230502_10812.ipynb\" target=\"_parent\"><img src=\"https://colab.research.google.com/assets/colab-badge.svg\" alt=\"Open In Colab\"/></a>"
      ]
    },
    {
      "cell_type": "code",
      "execution_count": 1,
      "metadata": {
        "colab": {
          "base_uri": "https://localhost:8080/"
        },
        "id": "FsZiXso3ueLk",
        "outputId": "b80d6825-9fb8-4c5d-a4ea-db98b708120a"
      },
      "outputs": [
        {
          "output_type": "stream",
          "name": "stdout",
          "text": [
            "10 5\n",
            "1 6 4\n",
            "3 9 8\n",
            "2 10 5\n",
            "1 3 3\n",
            "2 6 2\n",
            "1 4 6 2 3 7 10 5 8 9\n"
          ]
        }
      ],
      "source": [
        "x_list = []\n",
        "\n",
        "N,M = map(int,input().split())\n",
        "for a in range(N) :\n",
        "  x = a+1\n",
        "  x_list.append(x)\n",
        "\n",
        "for b in range(M) :\n",
        "  i,j,k = map(int,input().split()) \n",
        "  x_list[k-1:j], x_list[i-1:k-1] = x_list[i-1:k-1], x_list[k-1:j]\n",
        "\n",
        "print(*x_list)\n"
      ]
    }
  ]
}