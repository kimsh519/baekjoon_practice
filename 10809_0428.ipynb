{
  "nbformat": 4,
  "nbformat_minor": 0,
  "metadata": {
    "colab": {
      "provenance": [],
      "authorship_tag": "ABX9TyNl8LrQeHUNzuvJv7nvxjaT",
      "include_colab_link": true
    },
    "kernelspec": {
      "name": "python3",
      "display_name": "Python 3"
    },
    "language_info": {
      "name": "python"
    }
  },
  "cells": [
    {
      "cell_type": "markdown",
      "metadata": {
        "id": "view-in-github",
        "colab_type": "text"
      },
      "source": [
        "<a href=\"https://colab.research.google.com/github/kimsh519/baekjoon_practice/blob/main/10809_0428.ipynb\" target=\"_parent\"><img src=\"https://colab.research.google.com/assets/colab-badge.svg\" alt=\"Open In Colab\"/></a>"
      ]
    },
    {
      "cell_type": "code",
      "execution_count": 97,
      "metadata": {
        "colab": {
          "base_uri": "https://localhost:8080/"
        },
        "id": "XajQwDHLz7sS",
        "outputId": "0c1fd565-3108-45c1-dc05-625f1c171d8c"
      },
      "outputs": [
        {
          "output_type": "stream",
          "name": "stdout",
          "text": [
            "baekjoon\n",
            "1 0 -1 -1 2 -1 -1 -1 -1 4 3 -1 -1 7 5 -1 -1 -1 -1 -1 -1 -1 -1 -1 -1 -1 "
          ]
        }
      ],
      "source": [
        "x_list = []\n",
        "y_list = []\n",
        "z_list = []\n",
        "d=0\n",
        "b = list(input())\n",
        "for i in b :\n",
        "  x = ord(i)\n",
        "  x_list.append(x)\n",
        "  a = len(b)\n",
        "\n",
        "for j in range(97,123) :\n",
        "   y = j\n",
        "   y_list.append(y)\n",
        "\n",
        "for k in range(26) :\n",
        "    z = -1\n",
        "    z_list.append(z)\n",
        "for l in x_list :\n",
        "  for m in y_list :\n",
        "    if z_list[m-97] == -1 :\n",
        "    \n",
        "      if m == l :\n",
        "        z_list[m-97]=d\n",
        "  d+=1\n",
        "\n",
        "for n in z_list :\n",
        "  print(n, end = ' ')   \n",
        "  \n",
        "    \n"
      ]
    },
    {
      "cell_type": "code",
      "source": [
        "bababbab"
      ],
      "metadata": {
        "id": "oHuVrk660eBT"
      },
      "execution_count": null,
      "outputs": []
    }
  ]
}